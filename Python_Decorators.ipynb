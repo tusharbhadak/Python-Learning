{
  "nbformat": 4,
  "nbformat_minor": 0,
  "metadata": {
    "colab": {
      "provenance": [],
      "authorship_tag": "ABX9TyOdJXCfgt4GbU/hMtjKo462",
      "include_colab_link": true
    },
    "kernelspec": {
      "name": "python3",
      "display_name": "Python 3"
    },
    "language_info": {
      "name": "python"
    }
  },
  "cells": [
    {
      "cell_type": "markdown",
      "metadata": {
        "id": "view-in-github",
        "colab_type": "text"
      },
      "source": [
        "<a href=\"https://colab.research.google.com/github/tusharbhadak/Python-Learning/blob/main/Python_Decorators.ipynb\" target=\"_parent\"><img src=\"https://colab.research.google.com/assets/colab-badge.svg\" alt=\"Open In Colab\"/></a>"
      ]
    },
    {
      "cell_type": "markdown",
      "source": [
        "# **🐍 Python Decorators ✨**\n",
        "\n",
        "Decorators are a powerful feature in Python that allows you to modify the behavior of functions or classes without changing their source code. They provide a concise and elegant way to enhance and extend the functionality of your code. 🎩🔧\n",
        "\n",
        "Decorators offer immense flexibility and can be used for a variety of purposes, such as logging, input validation, and authentication. They are a powerful tool in your Python toolbox! 💪🔧\n"
      ],
      "metadata": {
        "id": "DfSfn6TldJf-"
      }
    },
    {
      "cell_type": "code",
      "source": [
        "# Simple Python Decorator Example\n",
        "\n",
        "def uppercase_decorator(func):\n",
        "    def wrapper():\n",
        "        original_result = func()\n",
        "        modified_result = original_result.upper()\n",
        "        return modified_result\n",
        "    return wrapper\n",
        "\n",
        "@uppercase_decorator\n",
        "def greet():\n",
        "    return \"hey, folks!\"\n",
        "\n",
        "print(greet())"
      ],
      "metadata": {
        "colab": {
          "base_uri": "https://localhost:8080/"
        },
        "id": "wpXvTrJ48Hrj",
        "outputId": "6a8bba1d-7308-4593-d468-3a6e53f61a13"
      },
      "execution_count": 4,
      "outputs": [
        {
          "output_type": "stream",
          "name": "stdout",
          "text": [
            "HEY, FOLKS!\n"
          ]
        }
      ]
    },
    {
      "cell_type": "markdown",
      "source": [
        "In this example, we define a **decorator** uppercase_decorator that takes a function func as input. It wraps the function with additional logic to convert the result to uppercase. We then use the **@uppercase_decorator** syntax to apply the decorator to our **greet()** function."
      ],
      "metadata": {
        "id": "TKX7Im1aeFbC"
      }
    },
    {
      "cell_type": "code",
      "source": [
        "# Timing Decorator - the time_decorator measures the execution time of the decorated function and prints the result.\n",
        "import time\n",
        "\n",
        "def time_decorator(func):\n",
        "    def wrapper(*args, **kwargs):\n",
        "        start_time = time.time()\n",
        "        result = func(*args, **kwargs)\n",
        "        end_time = time.time()\n",
        "        execution_time = end_time - start_time\n",
        "        print(f\"Function {func.__name__} executed in {execution_time:.2f} seconds\")\n",
        "        return result\n",
        "    return wrapper\n",
        "\n",
        "@time_decorator\n",
        "def factorial(n):\n",
        "    if n == 0 or n == 1:\n",
        "        return 1\n",
        "    else:\n",
        "        return n * factorial(n-1)\n",
        "\n",
        "result = factorial(5)\n",
        "# Output: Function factorial executed in 0.00 seconds\n",
        "\n",
        "print(f\"The factorial of 5 is: {result}\")\n",
        "# Output: The factorial of 5 is: 120"
      ],
      "metadata": {
        "colab": {
          "base_uri": "https://localhost:8080/"
        },
        "id": "zawpS5vsfgVM",
        "outputId": "2ba07310-49af-4be8-e489-1731334e398d"
      },
      "execution_count": 8,
      "outputs": [
        {
          "output_type": "stream",
          "name": "stdout",
          "text": [
            "Function factorial executed in 0.00 seconds\n",
            "Function factorial executed in 0.00 seconds\n",
            "Function factorial executed in 0.00 seconds\n",
            "Function factorial executed in 0.00 seconds\n",
            "Function factorial executed in 0.00 seconds\n",
            "The factorial of 5 is: 120\n"
          ]
        }
      ]
    },
    {
      "cell_type": "markdown",
      "source": [
        "In this code, the factorial function is decorated with the time_decorator, which measures the execution time. The result of the factorial computation is then printed after the function call."
      ],
      "metadata": {
        "id": "WVE_9HRRgL6M"
      }
    },
    {
      "cell_type": "code",
      "source": [
        "# Memoization Decorator (Caching)\n",
        "def memoize(func):\n",
        "    cache = {}\n",
        "\n",
        "    def wrapper(*args):\n",
        "        if args in cache:\n",
        "            return cache[args]\n",
        "        result = func(*args)\n",
        "        cache[args] = result\n",
        "        return result\n",
        "\n",
        "    return wrapper\n",
        "\n",
        "@memoize\n",
        "def fibonacci(n):\n",
        "    if n == 0:\n",
        "        return 0\n",
        "    elif n == 1:\n",
        "        return 1\n",
        "    else:\n",
        "        return fibonacci(n-1) + fibonacci(n-2)\n",
        "\n",
        "result = fibonacci(10)\n",
        "print(f\"The 10th Fibonacci number is: {result}\")"
      ],
      "metadata": {
        "colab": {
          "base_uri": "https://localhost:8080/"
        },
        "id": "3p0R9VT1gQco",
        "outputId": "d4b48c4c-d174-4e0b-ef36-90e1cebb2fd8"
      },
      "execution_count": 10,
      "outputs": [
        {
          "output_type": "stream",
          "name": "stdout",
          "text": [
            "The 10th Fibonacci number is: 55\n"
          ]
        }
      ]
    },
    {
      "cell_type": "markdown",
      "source": [
        "In this code, the fibonacci function is decorated with the memoize decorator, which adds caching functionality. The computed Fibonacci number is then printed after the function call. This example demonstrates a memoization decorator that caches the results of the Fibonacci function, preventing redundant calculations for the same inputs."
      ],
      "metadata": {
        "id": "GfUdlQ0sgoEo"
      }
    },
    {
      "cell_type": "code",
      "source": [
        "# Logging Decorator\n",
        "\n",
        "import logging\n",
        "\n",
        "def log_decorator(func):\n",
        "    def wrapper(*args, **kwargs):\n",
        "        logging.info(f\"Calling function {func.__name__} with args: {args}, kwargs: {kwargs}\")\n",
        "        result = func(*args, **kwargs)\n",
        "        return result\n",
        "    return wrapper\n",
        "\n",
        "@log_decorator\n",
        "def add_numbers(a, b):\n",
        "    return a + b\n",
        "\n",
        "result = add_numbers(3, 5)\n",
        "\n",
        "print(f\"The result is: {result}\")"
      ],
      "metadata": {
        "colab": {
          "base_uri": "https://localhost:8080/"
        },
        "id": "EL5oTtCdhCwb",
        "outputId": "214c016b-4217-4e96-8c2f-bf4972124823"
      },
      "execution_count": 11,
      "outputs": [
        {
          "output_type": "stream",
          "name": "stdout",
          "text": [
            "The result is: 8\n"
          ]
        }
      ]
    },
    {
      "cell_type": "markdown",
      "source": [
        "In this example, the log_decorator logs information about the function being called and its arguments before executing it."
      ],
      "metadata": {
        "id": "f53B6cpahXKY"
      }
    }
  ]
}