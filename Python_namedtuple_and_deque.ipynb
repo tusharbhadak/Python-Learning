{
  "nbformat": 4,
  "nbformat_minor": 0,
  "metadata": {
    "colab": {
      "provenance": [],
      "authorship_tag": "ABX9TyOTGPk2e+eB8xdsXsyicfNf",
      "include_colab_link": true
    },
    "kernelspec": {
      "name": "python3",
      "display_name": "Python 3"
    },
    "language_info": {
      "name": "python"
    }
  },
  "cells": [
    {
      "cell_type": "markdown",
      "metadata": {
        "id": "view-in-github",
        "colab_type": "text"
      },
      "source": [
        "<a href=\"https://colab.research.google.com/github/tusharbhadak/Python-Learning/blob/main/Python_namedtuple_and_deque.ipynb\" target=\"_parent\"><img src=\"https://colab.research.google.com/assets/colab-badge.svg\" alt=\"Open In Colab\"/></a>"
      ]
    },
    {
      "cell_type": "markdown",
      "source": [
        "Python's namedtuple is a convenient subclass of tuples that gives names to each position in the tuple. It combines the simplicity and memory efficiency of tuples with the readability and accessibility of named fields. Namedtuples are lightweight, efficient, and provide a meaningful way to structure your data, making your code more readable and self-explanatory. Here's an example:"
      ],
      "metadata": {
        "id": "q3ZVrUn-Vrx2"
      }
    },
    {
      "cell_type": "code",
      "execution_count": 1,
      "metadata": {
        "colab": {
          "base_uri": "https://localhost:8080/"
        },
        "id": "x6wHju1CT86E",
        "outputId": "8c932dcf-e524-4433-9052-625dbe98a813"
      },
      "outputs": [
        {
          "output_type": "stream",
          "name": "stdout",
          "text": [
            "2\n",
            "5\n"
          ]
        }
      ],
      "source": [
        "# namedtuple\n",
        "from collections import namedtuple\n",
        "\n",
        "# Defining a named tuple for a point in 2D space\n",
        "Point = namedtuple('Point', ['x', 'y'])\n",
        "\n",
        "# Creating an instance of the Point namedtuple\n",
        "p1 = Point(2, 5)\n",
        "\n",
        "print(p1.x)\n",
        "print(p1.y)"
      ]
    },
    {
      "cell_type": "markdown",
      "source": [
        "In this example, we define a **named tuple** called **Point** with named fields 'x' and 'y'. We then create an instance of the Point namedtuple with values (2, 5) for x and y. Accessing the named fields becomes intuitive, similar to accessing object attributes."
      ],
      "metadata": {
        "id": "K5FZIUD7VbJa"
      }
    },
    {
      "cell_type": "code",
      "source": [
        "# deque\n",
        "from collections import deque\n",
        "\n",
        "# Creating a deque\n",
        "queue = deque()\n",
        "\n",
        "# Adding elements to the deque\n",
        "queue.append(1)\n",
        "queue.append(2)\n",
        "queue.append(3)\n",
        "\n",
        "# Removing elements from the deque\n",
        "first_element = queue.popleft()\n",
        "print(first_element)\n",
        "\n",
        "# Adding an element to the right end of the deque\n",
        "queue.append(4)\n",
        "\n",
        "print(queue)"
      ],
      "metadata": {
        "colab": {
          "base_uri": "https://localhost:8080/"
        },
        "id": "1SJr0dMkU9wV",
        "outputId": "18a48f14-6568-4bb6-fd10-117c60c1739f"
      },
      "execution_count": 2,
      "outputs": [
        {
          "output_type": "stream",
          "name": "stdout",
          "text": [
            "1\n",
            "deque([2, 3, 4])\n"
          ]
        }
      ]
    },
    {
      "cell_type": "markdown",
      "source": [
        "In this example, we create a **deque** called **queue**. We use **append()** to add elements to the right end of the deque and **popleft()** to remove the leftmost element. **deque** allows efficient insertion and deletion from both ends, making it suitable for scenarios that involve manipulating data at the beginning or end of a collection."
      ],
      "metadata": {
        "id": "Pzvp3GbKVfsE"
      }
    }
  ]
}