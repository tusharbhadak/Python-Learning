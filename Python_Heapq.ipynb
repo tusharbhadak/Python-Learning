{
  "nbformat": 4,
  "nbformat_minor": 0,
  "metadata": {
    "colab": {
      "provenance": [],
      "authorship_tag": "ABX9TyOHHzKzXl1vX2FLzJwB5Zrx",
      "include_colab_link": true
    },
    "kernelspec": {
      "name": "python3",
      "display_name": "Python 3"
    },
    "language_info": {
      "name": "python"
    }
  },
  "cells": [
    {
      "cell_type": "markdown",
      "metadata": {
        "id": "view-in-github",
        "colab_type": "text"
      },
      "source": [
        "<a href=\"https://colab.research.google.com/github/tusharbhadak/Python-Learning/blob/main/Python_Heapq.ipynb\" target=\"_parent\"><img src=\"https://colab.research.google.com/assets/colab-badge.svg\" alt=\"Open In Colab\"/></a>"
      ]
    },
    {
      "cell_type": "markdown",
      "source": [
        "**Python's heapq** module provides functions to create and manipulate heap data structures, specifically min-heaps. A heap is a binary tree-based data structure that satisfies the heap property, where the parent node is always less (in a min-heap) or greater (in a max-heap) than its child nodes. Min-heaps are particularly useful for efficiently maintaining the smallest elements in a collection."
      ],
      "metadata": {
        "id": "3nhw1eyqggBJ"
      }
    },
    {
      "cell_type": "code",
      "execution_count": 1,
      "metadata": {
        "colab": {
          "base_uri": "https://localhost:8080/"
        },
        "id": "c6as__3NgXR6",
        "outputId": "2edd5eab-4da9-4844-f25e-00f81e7bab57"
      },
      "outputs": [
        {
          "output_type": "stream",
          "name": "stdout",
          "text": [
            "2\n",
            "[5, 10, 23, 45, 15]\n"
          ]
        }
      ],
      "source": [
        "import heapq\n",
        "\n",
        "# Creating a list of numbers\n",
        "numbers = [23, 10, 2, 45, 15]\n",
        "\n",
        "# Converting the list into a min-heap\n",
        "heapq.heapify(numbers)\n",
        "\n",
        "# Adding a new element to the min-heap\n",
        "heapq.heappush(numbers, 5)\n",
        "\n",
        "# Getting the smallest element from the min-heap\n",
        "smallest_element = heapq.heappop(numbers)\n",
        "print(smallest_element)\n",
        "\n",
        "print(numbers)"
      ]
    },
    {
      "cell_type": "markdown",
      "source": [
        "In this example, we start with a list of numbers. By using **heapq.heapify()**, we transform the list into a min-heap. We then use **heapq.heappush()** to add a new element (5) to the heap. Finally, **heapq.heappop()** returns and removes the smallest element (2) from the heap. The list is then updated to reflect the modified heap."
      ],
      "metadata": {
        "id": "uHuxqPa_glAE"
      }
    },
    {
      "cell_type": "code",
      "source": [
        "# Merging Multiple Sorted Lists\n",
        "import heapq\n",
        "\n",
        "list1 = [1, 4, 7]\n",
        "list2 = [2, 5, 8]\n",
        "list3 = [3, 6, 9]\n",
        "\n",
        "merged_list = list(heapq.merge(list1, list2, list3))\n",
        "print(merged_list)"
      ],
      "metadata": {
        "colab": {
          "base_uri": "https://localhost:8080/"
        },
        "id": "wDNrrYxghkjh",
        "outputId": "06c9d32b-d112-405e-fa45-2bea0bd7fbb7"
      },
      "execution_count": 2,
      "outputs": [
        {
          "output_type": "stream",
          "name": "stdout",
          "text": [
            "[1, 2, 3, 4, 5, 6, 7, 8, 9]\n"
          ]
        }
      ]
    },
    {
      "cell_type": "markdown",
      "source": [
        "In this example, we have three sorted lists (**list1, list2, and list3**). By using **heapq.merge()**, we can merge these lists into a single sorted list."
      ],
      "metadata": {
        "id": "aNj58LCahpOD"
      }
    },
    {
      "cell_type": "code",
      "source": [
        "# Finding the Largest N Elements\n",
        "import heapq\n",
        "\n",
        "numbers = [9, 6, 2, 8, 4, 1, 7, 5, 3]\n",
        "\n",
        "largest_n = heapq.nlargest(3, numbers)\n",
        "print(largest_n)"
      ],
      "metadata": {
        "colab": {
          "base_uri": "https://localhost:8080/"
        },
        "id": "7wKxCZCwhs-N",
        "outputId": "59de9115-d5d6-4483-f22a-3c373e78397e"
      },
      "execution_count": 3,
      "outputs": [
        {
          "output_type": "stream",
          "name": "stdout",
          "text": [
            "[9, 8, 7]\n"
          ]
        }
      ]
    },
    {
      "cell_type": "markdown",
      "source": [
        "Here, we have a list of numbers. By using **heapq.nlargest()**, we can efficiently find the N largest elements from the list. In this case, we retrieve the 3 largest numbers."
      ],
      "metadata": {
        "id": "kUOp9zOqhz8P"
      }
    },
    {
      "cell_type": "code",
      "source": [
        "# Implementing a Priority Queue\n",
        "import heapq\n",
        "\n",
        "class PriorityQueue:\n",
        "    def __init__(self):\n",
        "        self._queue = []\n",
        "        self._index = 0\n",
        "\n",
        "    def push(self, item, priority):\n",
        "        heapq.heappush(self._queue, (priority, self._index, item))\n",
        "        self._index += 1\n",
        "\n",
        "    def pop(self):\n",
        "        return heapq.heappop(self._queue)[-1]\n",
        "\n",
        "# Using the custom priority queue\n",
        "pq = PriorityQueue()\n",
        "pq.push(\"Task 1\", 3)\n",
        "pq.push(\"Task 2\", 1)\n",
        "pq.push(\"Task 3\", 2)\n",
        "\n",
        "print(pq.pop())\n",
        "print(pq.pop())\n",
        "print(pq.pop())"
      ],
      "metadata": {
        "colab": {
          "base_uri": "https://localhost:8080/"
        },
        "id": "YtswTqpXh2FX",
        "outputId": "5e9dfa13-4f79-423f-a0a7-531267943255"
      },
      "execution_count": 4,
      "outputs": [
        {
          "output_type": "stream",
          "name": "stdout",
          "text": [
            "Task 2\n",
            "Task 3\n",
            "Task 1\n"
          ]
        }
      ]
    },
    {
      "cell_type": "markdown",
      "source": [
        "In this example, we implement a custom priority queue using **heapq**. The **push()** method is used to add items with their corresponding priorities to the queue, and **pop()** retrieves the item with the highest priority."
      ],
      "metadata": {
        "id": "zccwhJzbh_ak"
      }
    }
  ]
}