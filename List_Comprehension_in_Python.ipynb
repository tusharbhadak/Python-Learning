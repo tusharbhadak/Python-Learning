{
  "nbformat": 4,
  "nbformat_minor": 0,
  "metadata": {
    "colab": {
      "provenance": [],
      "authorship_tag": "ABX9TyOqCmhTL7ApoKy22hhsrOZA",
      "include_colab_link": true
    },
    "kernelspec": {
      "name": "python3",
      "display_name": "Python 3"
    },
    "language_info": {
      "name": "python"
    }
  },
  "cells": [
    {
      "cell_type": "markdown",
      "metadata": {
        "id": "view-in-github",
        "colab_type": "text"
      },
      "source": [
        "<a href=\"https://colab.research.google.com/github/tusharbhadak/Python-Learning/blob/main/List_Comprehension_in_Python.ipynb\" target=\"_parent\"><img src=\"https://colab.research.google.com/assets/colab-badge.svg\" alt=\"Open In Colab\"/></a>"
      ]
    },
    {
      "cell_type": "markdown",
      "source": [
        "# **List Comprehension in 🐍 Python**\n",
        "\n",
        "To iterate over each element in the Python list, a comprehension is made out of brackets carrying the expression, which is then run for each element. List comprehensions convert the conventional for loop iteration strategy into a straightforward formula, making them simple to employ. The method for utilising list comprehension in Python to iterate through a list, string, tuple, etc. is shown below."
      ],
      "metadata": {
        "id": "-693sEXcdRku"
      }
    },
    {
      "cell_type": "code",
      "execution_count": 1,
      "metadata": {
        "colab": {
          "base_uri": "https://localhost:8080/"
        },
        "id": "9YkfLyOfdPz1",
        "outputId": "9010d390-006b-4276-9288-a72d2c52fedd"
      },
      "outputs": [
        {
          "output_type": "stream",
          "name": "stdout",
          "text": [
            "[1, 4, 9, 16, 25]\n"
          ]
        }
      ],
      "source": [
        "# Simple Example\n",
        "numbers = [1, 2, 3, 4, 5]\n",
        "\n",
        "squared_numbers = [num ** 2 for num in numbers]\n",
        "\n",
        "print(squared_numbers)"
      ]
    },
    {
      "cell_type": "markdown",
      "source": [
        "In this example, I use list comprehension to create a new list **squared_numbers** by squaring each element in the **numbers** list. The syntax **[num ** 2 for num in numbers]** succinctly represents this transformation."
      ],
      "metadata": {
        "id": "KecqZWTYd1sw"
      }
    },
    {
      "cell_type": "code",
      "source": [
        "# Lets print the even numbers from 0 to 10\n",
        "list = [i for i in range(11) if i % 2 == 0]\n",
        "print(list)"
      ],
      "metadata": {
        "colab": {
          "base_uri": "https://localhost:8080/"
        },
        "id": "0nFjVAt7d5ZC",
        "outputId": "8ce4b94f-1756-4599-de66-f7d2fb458eb7"
      },
      "execution_count": 2,
      "outputs": [
        {
          "output_type": "stream",
          "name": "stdout",
          "text": [
            "[0, 2, 4, 6, 8, 10]\n"
          ]
        }
      ]
    },
    {
      "cell_type": "code",
      "source": [
        "# Matrix using List comprehension\n",
        "matrix = [[j for j in range(3)] for i in range(3)]\n",
        "\n",
        "print(matrix)"
      ],
      "metadata": {
        "colab": {
          "base_uri": "https://localhost:8080/"
        },
        "id": "U6zdpIP_fLg8",
        "outputId": "858565da-5613-4610-9804-c0080c610b74"
      },
      "execution_count": 4,
      "outputs": [
        {
          "output_type": "stream",
          "name": "stdout",
          "text": [
            "[[0, 1, 2], [0, 1, 2], [0, 1, 2]]\n"
          ]
        }
      ]
    },
    {
      "cell_type": "markdown",
      "source": [
        "In this example, I am assigning integers 0 to 2 to 3 rows of the matrix and printing it.\n",
        "\n"
      ],
      "metadata": {
        "id": "Kzvoytn8fc8D"
      }
    },
    {
      "cell_type": "markdown",
      "source": [
        "### **Nested List Comprehensions**\n",
        "\n",
        "Nested List Comprehensions are nothing but a list comprehension within another list comprehension which is quite similar to nested for loops."
      ],
      "metadata": {
        "id": "rLQWk-s4fjAv"
      }
    },
    {
      "cell_type": "code",
      "source": [
        "# Nested Loop Program\n",
        "matrix = []\n",
        "\n",
        "for i in range(3):\n",
        "\n",
        "\t# Append an empty sublist inside the list\n",
        "\tmatrix.append([])\n",
        "\n",
        "\tfor j in range(5):\n",
        "\t\tmatrix[i].append(j)\n",
        "\n",
        "print(matrix)"
      ],
      "metadata": {
        "colab": {
          "base_uri": "https://localhost:8080/"
        },
        "id": "XiEn2Amhfe5Z",
        "outputId": "f205e249-bb96-48b0-ad18-febec13820ea"
      },
      "execution_count": 5,
      "outputs": [
        {
          "output_type": "stream",
          "name": "stdout",
          "text": [
            "[[0, 1, 2, 3, 4], [0, 1, 2, 3, 4], [0, 1, 2, 3, 4]]\n"
          ]
        }
      ]
    },
    {
      "cell_type": "code",
      "source": [
        "# Nested list comprehension\n",
        "matrix = [[j for j in range(5)] for i in range(3)]\n",
        "\n",
        "print(matrix)"
      ],
      "metadata": {
        "colab": {
          "base_uri": "https://localhost:8080/"
        },
        "id": "q0Hrv5lKfuZa",
        "outputId": "9b2dcef2-188c-4030-9b60-5e14bcaf20aa"
      },
      "execution_count": 6,
      "outputs": [
        {
          "output_type": "stream",
          "name": "stdout",
          "text": [
            "[[0, 1, 2, 3, 4], [0, 1, 2, 3, 4], [0, 1, 2, 3, 4]]\n"
          ]
        }
      ]
    },
    {
      "cell_type": "markdown",
      "source": [
        "### **Conditionals in List Comprehension**\n",
        "\n",
        "We can also add conditional statements to the list comprehension. We can create a list using range(), operators, etc. and cal also apply some conditions to the list using the if statement."
      ],
      "metadata": {
        "id": "k0omP-8hhOD9"
      }
    },
    {
      "cell_type": "code",
      "source": [
        "# Python List Comprehension using If-else.\n",
        "lis = [\"Even number\" if i % 2 == 0\n",
        "\telse \"Odd number\" for i in range(8)]\n",
        "\n",
        "print(lis)"
      ],
      "metadata": {
        "colab": {
          "base_uri": "https://localhost:8080/"
        },
        "id": "rFw38mxuhRsz",
        "outputId": "68fb4565-b9aa-4f33-83bd-3c258699272c"
      },
      "execution_count": 14,
      "outputs": [
        {
          "output_type": "stream",
          "name": "stdout",
          "text": [
            "['Even number', 'Odd number', 'Even number', 'Odd number', 'Even number', 'Odd number', 'Even number', 'Odd number']\n"
          ]
        }
      ]
    },
    {
      "cell_type": "code",
      "source": [
        "# Nested IF with List Comprehension\n",
        "lis = [num for num in range(100)\n",
        "\tif num % 5 == 0 if num % 10 == 0]\n",
        "\n",
        "print(lis)"
      ],
      "metadata": {
        "colab": {
          "base_uri": "https://localhost:8080/"
        },
        "id": "YO9WEOtyhX8q",
        "outputId": "5aefe182-1d9e-431a-e4ca-7ba6ca7e73c6"
      },
      "execution_count": 15,
      "outputs": [
        {
          "output_type": "stream",
          "name": "stdout",
          "text": [
            "[0, 10, 20, 30, 40, 50, 60, 70, 80, 90]\n"
          ]
        }
      ]
    },
    {
      "cell_type": "code",
      "source": [
        "# Display Transpose of 2D- Matrix\n",
        "\n",
        "# Assign matrix\n",
        "twoDMatrix = [[10, 20, 30],\n",
        "\t\t\t[40, 50, 60],\n",
        "\t\t\t[70, 80, 90]]\n",
        "\n",
        "# Generate transpose\n",
        "trans = [[i[j] for i in twoDMatrix] for j in range(len(twoDMatrix[0]))]\n",
        "\n",
        "print(trans)"
      ],
      "metadata": {
        "colab": {
          "base_uri": "https://localhost:8080/"
        },
        "id": "89COqGewhjtc",
        "outputId": "8705d008-7cd2-489e-ea74-f84c843afc95"
      },
      "execution_count": 16,
      "outputs": [
        {
          "output_type": "stream",
          "name": "stdout",
          "text": [
            "[[10, 40, 70], [20, 50, 80], [30, 60, 90]]\n"
          ]
        }
      ]
    },
    {
      "cell_type": "code",
      "source": [
        "# Reverse each string in a Tuple\n",
        "# Reverse each string in tuple\n",
        "List = [string[::-1] for string in ('Hey', 'Hi', 'Hello')]\n",
        "\n",
        "# Display list\n",
        "print(List)"
      ],
      "metadata": {
        "colab": {
          "base_uri": "https://localhost:8080/"
        },
        "id": "sxhr5gsqhqIR",
        "outputId": "2eb32ecd-395f-46f6-8d0d-713e4cea8a29"
      },
      "execution_count": 17,
      "outputs": [
        {
          "output_type": "stream",
          "name": "stdout",
          "text": [
            "['yeH', 'iH', 'olleH']\n"
          ]
        }
      ]
    }
  ]
}