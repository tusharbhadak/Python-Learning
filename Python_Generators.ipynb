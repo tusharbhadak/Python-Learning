{
  "nbformat": 4,
  "nbformat_minor": 0,
  "metadata": {
    "colab": {
      "provenance": [],
      "authorship_tag": "ABX9TyNHNF8mW6Lxir13THtzEdem",
      "include_colab_link": true
    },
    "kernelspec": {
      "name": "python3",
      "display_name": "Python 3"
    },
    "language_info": {
      "name": "python"
    }
  },
  "cells": [
    {
      "cell_type": "markdown",
      "metadata": {
        "id": "view-in-github",
        "colab_type": "text"
      },
      "source": [
        "<a href=\"https://colab.research.google.com/github/tusharbhadak/Python-Learning/blob/main/Python_Generators.ipynb\" target=\"_parent\"><img src=\"https://colab.research.google.com/assets/colab-badge.svg\" alt=\"Open In Colab\"/></a>"
      ]
    },
    {
      "cell_type": "markdown",
      "source": [
        "# **🐍 Python Generators**\n",
        "\n",
        "In Python, a generator is a function that returns an iterator that produces a sequence of values when iterated over.\n",
        "\n",
        "Generators are useful when we want to produce a large sequence of values, but we don't want to store all of them in memory at once.\n",
        "\n",
        "In Python, similar to defining a normal function, we can define a generator function using the ***def*** keyword, but instead of the ***return*** statement we use the ***yield*** statement."
      ],
      "metadata": {
        "id": "4uqis5IgjLJH"
      }
    },
    {
      "cell_type": "code",
      "execution_count": 1,
      "metadata": {
        "colab": {
          "base_uri": "https://localhost:8080/"
        },
        "id": "rNSeDEUCiPAV",
        "outputId": "a823ef43-99f5-48ab-c802-da8ebad56bd6"
      },
      "outputs": [
        {
          "output_type": "stream",
          "name": "stdout",
          "text": [
            "0 2 4 6 8 "
          ]
        }
      ],
      "source": [
        "#Generator example of Even number.\n",
        "def even_numbers(limit):\n",
        "    num = 0\n",
        "    while num < limit:\n",
        "        yield num\n",
        "        num += 2\n",
        "\n",
        "# Using the generator to print even numbers up to 10\n",
        "for even_num in even_numbers(10):\n",
        "    print(even_num, end=\" \")"
      ]
    },
    {
      "cell_type": "markdown",
      "source": [
        "In this example, the even_numbers function is a generator that produces even numbers up to the given limit. Instead of computing and storing all even numbers in memory at once, it generates and yields each number on-the-fly when needed. This way, we save memory and improve performance."
      ],
      "metadata": {
        "id": "ya0SbXW1jtLi"
      }
    },
    {
      "cell_type": "code",
      "source": [
        "# create the generator object\n",
        "squares_generator = (i * i for i in range(5))\n",
        "\n",
        "# iterate over the generator and print the values\n",
        "for i in squares_generator:\n",
        "    print(i)"
      ],
      "metadata": {
        "colab": {
          "base_uri": "https://localhost:8080/"
        },
        "id": "Zw3yvxOckH6k",
        "outputId": "343bfebb-fd3a-4e8c-89eb-a3fcddf3771e"
      },
      "execution_count": 2,
      "outputs": [
        {
          "output_type": "stream",
          "name": "stdout",
          "text": [
            "0\n",
            "1\n",
            "4\n",
            "9\n",
            "16\n"
          ]
        }
      ]
    },
    {
      "cell_type": "markdown",
      "source": [
        "Here, we have created the generator object that will produce the squares of the numbers 0 through 4 when iterated over."
      ],
      "metadata": {
        "id": "xOPbW4XmkOg8"
      }
    },
    {
      "cell_type": "code",
      "source": [
        "# Fibonacci Sequence Generator\n",
        "def fibonacci():\n",
        "    a, b = 0, 1\n",
        "    while True:\n",
        "        yield a\n",
        "        a, b = b, a + b\n",
        "\n",
        "# Using the generator to print the Fibonacci sequence up to 100\n",
        "fib_gen = fibonacci()\n",
        "for _ in range(10):\n",
        "    print(next(fib_gen), end=\" \")"
      ],
      "metadata": {
        "colab": {
          "base_uri": "https://localhost:8080/"
        },
        "id": "BL9Knx0Ela4N",
        "outputId": "c3e52c5a-6e9b-415b-85e0-10a8026ec123"
      },
      "execution_count": 3,
      "outputs": [
        {
          "output_type": "stream",
          "name": "stdout",
          "text": [
            "0 1 1 2 3 5 8 13 21 34 "
          ]
        }
      ]
    },
    {
      "cell_type": "markdown",
      "source": [
        "In this example, the *fibonacci* generator produces the *Fibonacci* sequence indefinitely. Each time the *yield* statement is encountered, the current Fibonacci number is returned, and the state of the generator is saved for the next iteration."
      ],
      "metadata": {
        "id": "NOKqoYUElhOb"
      }
    },
    {
      "cell_type": "code",
      "source": [
        "# Countdown Generator\n",
        "def countdown(n):\n",
        "    while n > 0:\n",
        "        yield n\n",
        "        n -= 1\n",
        "\n",
        "# Using the generator to print a countdown from 5\n",
        "for num in countdown(5):\n",
        "    print(num, end=\" \")"
      ],
      "metadata": {
        "colab": {
          "base_uri": "https://localhost:8080/"
        },
        "id": "7YvLZYMClnVo",
        "outputId": "ab0500d7-12c2-4976-e85f-7c065db65d40"
      },
      "execution_count": 4,
      "outputs": [
        {
          "output_type": "stream",
          "name": "stdout",
          "text": [
            "5 4 3 2 1 "
          ]
        }
      ]
    },
    {
      "cell_type": "markdown",
      "source": [
        "The countdown generator counts down from a given number n to 1. It yields each number in the countdown sequence until n reaches 0."
      ],
      "metadata": {
        "id": "FKo6z-6fluxG"
      }
    }
  ]
}